{
 "cells": [
  {
   "cell_type": "markdown",
   "id": "151c95c2",
   "metadata": {},
   "source": [
    "## 1.Importing Packages"
   ]
  },
  {
   "cell_type": "code",
   "execution_count": 1,
   "id": "5989f825",
   "metadata": {},
   "outputs": [],
   "source": [
    "import os\n",
    "import re\n",
    "import sys\n",
    "sys.path.append('../')\n",
    "import warnings\n",
    "warnings.filterwarnings('ignore')\n",
    "import pandas as pd\n",
    "import numpy as np\n",
    "import matplotlib.pyplot as plt\n",
    "import seaborn as sns\n",
    "from src.utils import read_data\n",
    "from user_agents import parse"
   ]
  },
  {
   "cell_type": "markdown",
   "id": "27ab6db9",
   "metadata": {},
   "source": [
    "## 2. Reading the data"
   ]
  },
  {
   "cell_type": "code",
   "execution_count": 2,
   "id": "d2dee2b8",
   "metadata": {
    "scrolled": false
   },
   "outputs": [
    {
     "name": "stderr",
     "output_type": "stream",
     "text": [
      "Skipping line 601730: Expected 7 fields in line 601730, saw 23. Error could possibly be due to quotes being ignored when a multi-char delimiter is used.\n"
     ]
    },
    {
     "data": {
      "text/html": [
       "<div>\n",
       "<style scoped>\n",
       "    .dataframe tbody tr th:only-of-type {\n",
       "        vertical-align: middle;\n",
       "    }\n",
       "\n",
       "    .dataframe tbody tr th {\n",
       "        vertical-align: top;\n",
       "    }\n",
       "\n",
       "    .dataframe thead th {\n",
       "        text-align: right;\n",
       "    }\n",
       "</style>\n",
       "<table border=\"1\" class=\"dataframe\">\n",
       "  <thead>\n",
       "    <tr style=\"text-align: right;\">\n",
       "      <th></th>\n",
       "      <th>ip</th>\n",
       "      <th>time</th>\n",
       "      <th>request</th>\n",
       "      <th>status_code</th>\n",
       "      <th>response_length</th>\n",
       "      <th>user_agent</th>\n",
       "      <th>response_time</th>\n",
       "    </tr>\n",
       "  </thead>\n",
       "  <tbody>\n",
       "    <tr>\n",
       "      <th>0</th>\n",
       "      <td>207.213.193.143</td>\n",
       "      <td>[2021-5-12T5:6:0.0+0430]</td>\n",
       "      <td>[Get /cdn/profiles/1026106239]</td>\n",
       "      <td>304</td>\n",
       "      <td>0</td>\n",
       "      <td>[[Googlebot-Image/1.0]]</td>\n",
       "      <td>32.0</td>\n",
       "    </tr>\n",
       "    <tr>\n",
       "      <th>1</th>\n",
       "      <td>207.213.193.143</td>\n",
       "      <td>[2021-5-12T5:6:0.0+0430]</td>\n",
       "      <td>[Get images/badge.png]</td>\n",
       "      <td>304</td>\n",
       "      <td>0</td>\n",
       "      <td>[[Googlebot-Image/1.0]]</td>\n",
       "      <td>4.0</td>\n",
       "    </tr>\n",
       "    <tr>\n",
       "      <th>2</th>\n",
       "      <td>35.110.222.153</td>\n",
       "      <td>[2021-5-12T5:6:0.0+0430]</td>\n",
       "      <td>[Get /pages/630180847]</td>\n",
       "      <td>200</td>\n",
       "      <td>52567</td>\n",
       "      <td>[[Mozilla/5.0 (Linux; Android 6.0.1; SAMSUNG S...</td>\n",
       "      <td>32.0</td>\n",
       "    </tr>\n",
       "    <tr>\n",
       "      <th>3</th>\n",
       "      <td>35.108.208.99</td>\n",
       "      <td>[2021-5-12T5:6:0.0+0430]</td>\n",
       "      <td>[Get images/fav_icon2.ico]</td>\n",
       "      <td>200</td>\n",
       "      <td>23531</td>\n",
       "      <td>[[Mozilla/5.0 (Linux; Android 6.0; CAM-L21) Ap...</td>\n",
       "      <td>20.0</td>\n",
       "    </tr>\n",
       "    <tr>\n",
       "      <th>4</th>\n",
       "      <td>35.110.222.153</td>\n",
       "      <td>[2021-5-12T5:6:0.0+0430]</td>\n",
       "      <td>[Get images/sanjagh_logo_purpule5.png]</td>\n",
       "      <td>200</td>\n",
       "      <td>4680</td>\n",
       "      <td>[[Mozilla/5.0 (Linux; Android 6.0.1; SAMSUNG S...</td>\n",
       "      <td>8.0</td>\n",
       "    </tr>\n",
       "  </tbody>\n",
       "</table>\n",
       "</div>"
      ],
      "text/plain": [
       "                ip                      time  \\\n",
       "0  207.213.193.143  [2021-5-12T5:6:0.0+0430]   \n",
       "1  207.213.193.143  [2021-5-12T5:6:0.0+0430]   \n",
       "2   35.110.222.153  [2021-5-12T5:6:0.0+0430]   \n",
       "3    35.108.208.99  [2021-5-12T5:6:0.0+0430]   \n",
       "4   35.110.222.153  [2021-5-12T5:6:0.0+0430]   \n",
       "\n",
       "                                  request  status_code  response_length  \\\n",
       "0          [Get /cdn/profiles/1026106239]          304                0   \n",
       "1                  [Get images/badge.png]          304                0   \n",
       "2                  [Get /pages/630180847]          200            52567   \n",
       "3              [Get images/fav_icon2.ico]          200            23531   \n",
       "4  [Get images/sanjagh_logo_purpule5.png]          200             4680   \n",
       "\n",
       "                                          user_agent  response_time  \n",
       "0                            [[Googlebot-Image/1.0]]           32.0  \n",
       "1                            [[Googlebot-Image/1.0]]            4.0  \n",
       "2  [[Mozilla/5.0 (Linux; Android 6.0.1; SAMSUNG S...           32.0  \n",
       "3  [[Mozilla/5.0 (Linux; Android 6.0; CAM-L21) Ap...           20.0  \n",
       "4  [[Mozilla/5.0 (Linux; Android 6.0.1; SAMSUNG S...            8.0  "
      ]
     },
     "execution_count": 2,
     "metadata": {},
     "output_type": "execute_result"
    }
   ],
   "source": [
    "df = read_data(\"output.log\")\n",
    "df.head()"
   ]
  },
  {
   "cell_type": "code",
   "execution_count": 3,
   "id": "a39b90dc",
   "metadata": {
    "scrolled": true
   },
   "outputs": [
    {
     "data": {
      "text/plain": [
       "(1260034, 7)"
      ]
     },
     "execution_count": 3,
     "metadata": {},
     "output_type": "execute_result"
    }
   ],
   "source": [
    "df.shape"
   ]
  },
  {
   "cell_type": "markdown",
   "id": "a178a31a",
   "metadata": {},
   "source": [
    "## 3. Exploring the Data"
   ]
  },
  {
   "cell_type": "markdown",
   "id": "7c4036b3",
   "metadata": {},
   "source": [
    "### 3.1. Cleaning the data"
   ]
  },
  {
   "cell_type": "markdown",
   "id": "119861f8",
   "metadata": {},
   "source": [
    "#### 3.1.1. Removing the bracets from time, request, user_agent columns"
   ]
  },
  {
   "cell_type": "code",
   "execution_count": 4,
   "id": "66c6929a",
   "metadata": {},
   "outputs": [],
   "source": [
    "for col in [\"time\", \"request\", \"user_agent\"]:\n",
    "    df[col] = df[col].apply(lambda x : x.strip(\"[]\"))"
   ]
  },
  {
   "cell_type": "markdown",
   "id": "7af6f725",
   "metadata": {},
   "source": [
    "#### 3.1.2. Converting the type of time column to datetime"
   ]
  },
  {
   "cell_type": "code",
   "execution_count": 5,
   "id": "6d03e645",
   "metadata": {},
   "outputs": [],
   "source": [
    "df[\"time\"] = pd.to_datetime(df[\"time\"])"
   ]
  },
  {
   "cell_type": "markdown",
   "id": "a22c4718",
   "metadata": {},
   "source": [
    "#### 3.1.3. Extracting the methods from requests"
   ]
  },
  {
   "cell_type": "code",
   "execution_count": 6,
   "id": "e7f0f290",
   "metadata": {},
   "outputs": [],
   "source": [
    "df[\"method\"] = df[\"request\"].apply(lambda x: x.split()[0])"
   ]
  },
  {
   "cell_type": "markdown",
   "id": "4bdc2c58",
   "metadata": {},
   "source": [
    "#### 3.1.4.  Creating a new column for paths and removing the request column"
   ]
  },
  {
   "cell_type": "code",
   "execution_count": 7,
   "id": "ba06f955",
   "metadata": {},
   "outputs": [],
   "source": [
    "df[\"path\"] = df[\"request\"].apply(lambda x: x.split()[1])\n",
    "df.drop(columns=[\"request\"], inplace=True)\n",
    "df[\"path\"] = df[\"path\"].apply(lambda x: x.strip(\"/\"))"
   ]
  },
  {
   "cell_type": "markdown",
   "id": "eb23a0bb",
   "metadata": {},
   "source": [
    "#### 3.1.5. Reordering the columns for better readability"
   ]
  },
  {
   "cell_type": "code",
   "execution_count": 8,
   "id": "d2953372",
   "metadata": {
    "scrolled": false
   },
   "outputs": [
    {
     "data": {
      "text/html": [
       "<div>\n",
       "<style scoped>\n",
       "    .dataframe tbody tr th:only-of-type {\n",
       "        vertical-align: middle;\n",
       "    }\n",
       "\n",
       "    .dataframe tbody tr th {\n",
       "        vertical-align: top;\n",
       "    }\n",
       "\n",
       "    .dataframe thead th {\n",
       "        text-align: right;\n",
       "    }\n",
       "</style>\n",
       "<table border=\"1\" class=\"dataframe\">\n",
       "  <thead>\n",
       "    <tr style=\"text-align: right;\">\n",
       "      <th></th>\n",
       "      <th>ip</th>\n",
       "      <th>time</th>\n",
       "      <th>method</th>\n",
       "      <th>path</th>\n",
       "      <th>status_code</th>\n",
       "      <th>response_length</th>\n",
       "      <th>user_agent</th>\n",
       "      <th>response_time</th>\n",
       "    </tr>\n",
       "  </thead>\n",
       "  <tbody>\n",
       "    <tr>\n",
       "      <th>0</th>\n",
       "      <td>207.213.193.143</td>\n",
       "      <td>2021-05-12 05:06:00+04:30</td>\n",
       "      <td>Get</td>\n",
       "      <td>cdn/profiles/1026106239</td>\n",
       "      <td>304</td>\n",
       "      <td>0</td>\n",
       "      <td>Googlebot-Image/1.0</td>\n",
       "      <td>32.0</td>\n",
       "    </tr>\n",
       "    <tr>\n",
       "      <th>1</th>\n",
       "      <td>207.213.193.143</td>\n",
       "      <td>2021-05-12 05:06:00+04:30</td>\n",
       "      <td>Get</td>\n",
       "      <td>images/badge.png</td>\n",
       "      <td>304</td>\n",
       "      <td>0</td>\n",
       "      <td>Googlebot-Image/1.0</td>\n",
       "      <td>4.0</td>\n",
       "    </tr>\n",
       "    <tr>\n",
       "      <th>2</th>\n",
       "      <td>35.110.222.153</td>\n",
       "      <td>2021-05-12 05:06:00+04:30</td>\n",
       "      <td>Get</td>\n",
       "      <td>pages/630180847</td>\n",
       "      <td>200</td>\n",
       "      <td>52567</td>\n",
       "      <td>Mozilla/5.0 (Linux; Android 6.0.1; SAMSUNG SM-...</td>\n",
       "      <td>32.0</td>\n",
       "    </tr>\n",
       "  </tbody>\n",
       "</table>\n",
       "</div>"
      ],
      "text/plain": [
       "                ip                      time method                     path  \\\n",
       "0  207.213.193.143 2021-05-12 05:06:00+04:30    Get  cdn/profiles/1026106239   \n",
       "1  207.213.193.143 2021-05-12 05:06:00+04:30    Get         images/badge.png   \n",
       "2   35.110.222.153 2021-05-12 05:06:00+04:30    Get          pages/630180847   \n",
       "\n",
       "   status_code  response_length  \\\n",
       "0          304                0   \n",
       "1          304                0   \n",
       "2          200            52567   \n",
       "\n",
       "                                          user_agent  response_time  \n",
       "0                                Googlebot-Image/1.0           32.0  \n",
       "1                                Googlebot-Image/1.0            4.0  \n",
       "2  Mozilla/5.0 (Linux; Android 6.0.1; SAMSUNG SM-...           32.0  "
      ]
     },
     "execution_count": 8,
     "metadata": {},
     "output_type": "execute_result"
    }
   ],
   "source": [
    "df = df.reindex(columns = [\"ip\", \"time\", \"method\", \"path\", \"status_code\", \"response_length\", \"user_agent\", \"response_time\"])\n",
    "df.head(3)"
   ]
  },
  {
   "cell_type": "markdown",
   "id": "df3e00a4",
   "metadata": {},
   "source": [
    "### 3.2. Missing values"
   ]
  },
  {
   "cell_type": "code",
   "execution_count": 9,
   "id": "da14bbbc",
   "metadata": {},
   "outputs": [
    {
     "data": {
      "text/plain": [
       "ip                 18090\n",
       "time                   0\n",
       "method                 0\n",
       "path                   0\n",
       "status_code            0\n",
       "response_length        0\n",
       "user_agent             0\n",
       "response_time      19808\n",
       "dtype: int64"
      ]
     },
     "execution_count": 9,
     "metadata": {},
     "output_type": "execute_result"
    }
   ],
   "source": [
    "df.isnull().sum()"
   ]
  },
  {
   "cell_type": "code",
   "execution_count": 10,
   "id": "5cef6eb6",
   "metadata": {
    "scrolled": true
   },
   "outputs": [
    {
     "data": {
      "text/html": [
       "<div>\n",
       "<style scoped>\n",
       "    .dataframe tbody tr th:only-of-type {\n",
       "        vertical-align: middle;\n",
       "    }\n",
       "\n",
       "    .dataframe tbody tr th {\n",
       "        vertical-align: top;\n",
       "    }\n",
       "\n",
       "    .dataframe thead th {\n",
       "        text-align: right;\n",
       "    }\n",
       "</style>\n",
       "<table border=\"1\" class=\"dataframe\">\n",
       "  <thead>\n",
       "    <tr style=\"text-align: right;\">\n",
       "      <th></th>\n",
       "      <th>ip</th>\n",
       "      <th>time</th>\n",
       "      <th>method</th>\n",
       "      <th>path</th>\n",
       "      <th>status_code</th>\n",
       "      <th>response_length</th>\n",
       "      <th>user_agent</th>\n",
       "      <th>response_time</th>\n",
       "    </tr>\n",
       "  </thead>\n",
       "  <tbody>\n",
       "    <tr>\n",
       "      <th>25</th>\n",
       "      <td>NaN</td>\n",
       "      <td>2021-05-12 05:06:01+04:30</td>\n",
       "      <td>Get</td>\n",
       "      <td></td>\n",
       "      <td>301</td>\n",
       "      <td>169</td>\n",
       "      <td>kube-probe/1.21</td>\n",
       "      <td>NaN</td>\n",
       "    </tr>\n",
       "    <tr>\n",
       "      <th>85</th>\n",
       "      <td>NaN</td>\n",
       "      <td>2021-05-12 05:06:03+04:30</td>\n",
       "      <td>Get</td>\n",
       "      <td></td>\n",
       "      <td>301</td>\n",
       "      <td>169</td>\n",
       "      <td>kube-probe/1.21</td>\n",
       "      <td>NaN</td>\n",
       "    </tr>\n",
       "    <tr>\n",
       "      <th>145</th>\n",
       "      <td>NaN</td>\n",
       "      <td>2021-05-12 05:06:05+04:30</td>\n",
       "      <td>Get</td>\n",
       "      <td></td>\n",
       "      <td>301</td>\n",
       "      <td>169</td>\n",
       "      <td>kube-probe/1.21</td>\n",
       "      <td>NaN</td>\n",
       "    </tr>\n",
       "    <tr>\n",
       "      <th>175</th>\n",
       "      <td>NaN</td>\n",
       "      <td>2021-05-12 05:06:07+04:30</td>\n",
       "      <td>Get</td>\n",
       "      <td></td>\n",
       "      <td>301</td>\n",
       "      <td>169</td>\n",
       "      <td>kube-probe/1.21</td>\n",
       "      <td>NaN</td>\n",
       "    </tr>\n",
       "    <tr>\n",
       "      <th>215</th>\n",
       "      <td>NaN</td>\n",
       "      <td>2021-05-12 05:06:09+04:30</td>\n",
       "      <td>Get</td>\n",
       "      <td></td>\n",
       "      <td>301</td>\n",
       "      <td>169</td>\n",
       "      <td>kube-probe/1.21</td>\n",
       "      <td>NaN</td>\n",
       "    </tr>\n",
       "  </tbody>\n",
       "</table>\n",
       "</div>"
      ],
      "text/plain": [
       "      ip                      time method path  status_code  response_length  \\\n",
       "25   NaN 2021-05-12 05:06:01+04:30    Get               301              169   \n",
       "85   NaN 2021-05-12 05:06:03+04:30    Get               301              169   \n",
       "145  NaN 2021-05-12 05:06:05+04:30    Get               301              169   \n",
       "175  NaN 2021-05-12 05:06:07+04:30    Get               301              169   \n",
       "215  NaN 2021-05-12 05:06:09+04:30    Get               301              169   \n",
       "\n",
       "          user_agent  response_time  \n",
       "25   kube-probe/1.21            NaN  \n",
       "85   kube-probe/1.21            NaN  \n",
       "145  kube-probe/1.21            NaN  \n",
       "175  kube-probe/1.21            NaN  \n",
       "215  kube-probe/1.21            NaN  "
      ]
     },
     "execution_count": 10,
     "metadata": {},
     "output_type": "execute_result"
    }
   ],
   "source": [
    "ip_null_df = df[df[\"ip\"].isnull()]\n",
    "ip_null_df.head()"
   ]
  },
  {
   "cell_type": "code",
   "execution_count": 11,
   "id": "e8738cbe",
   "metadata": {},
   "outputs": [
    {
     "data": {
      "text/plain": [
       "2021-05-12 05:06:01+04:30    1\n",
       "2021-05-12 11:47:53+04:30    1\n",
       "2021-05-12 11:48:05+04:30    1\n",
       "2021-05-12 11:48:03+04:30    1\n",
       "2021-05-12 11:48:01+04:30    1\n",
       "                            ..\n",
       "2021-05-12 08:27:15+04:30    1\n",
       "2021-05-12 08:27:17+04:30    1\n",
       "2021-05-12 08:27:19+04:30    1\n",
       "2021-05-12 08:27:21+04:30    1\n",
       "2021-05-12 15:08:59+04:30    1\n",
       "Name: time, Length: 18090, dtype: int64"
      ]
     },
     "execution_count": 11,
     "metadata": {},
     "output_type": "execute_result"
    }
   ],
   "source": [
    "ip_null_df[\"time\"].value_counts()"
   ]
  },
  {
   "cell_type": "code",
   "execution_count": 12,
   "id": "a6f75269",
   "metadata": {},
   "outputs": [
    {
     "data": {
      "text/plain": [
       "Series([], Name: response_time, dtype: int64)"
      ]
     },
     "execution_count": 12,
     "metadata": {},
     "output_type": "execute_result"
    }
   ],
   "source": [
    "ip_null_df[\"response_time\"].value_counts()"
   ]
  },
  {
   "cell_type": "code",
   "execution_count": 13,
   "id": "222e5e05",
   "metadata": {},
   "outputs": [
    {
     "data": {
      "text/plain": [
       "Get    18090\n",
       "Name: method, dtype: int64"
      ]
     },
     "execution_count": 13,
     "metadata": {},
     "output_type": "execute_result"
    }
   ],
   "source": [
    "ip_null_df[\"method\"].value_counts()"
   ]
  },
  {
   "cell_type": "code",
   "execution_count": 14,
   "id": "ee617389",
   "metadata": {},
   "outputs": [
    {
     "data": {
      "text/plain": [
       "    18090\n",
       "Name: path, dtype: int64"
      ]
     },
     "execution_count": 14,
     "metadata": {},
     "output_type": "execute_result"
    }
   ],
   "source": [
    "ip_null_df[\"path\"].value_counts()"
   ]
  },
  {
   "cell_type": "code",
   "execution_count": 15,
   "id": "ccd033fe",
   "metadata": {},
   "outputs": [
    {
     "data": {
      "text/plain": [
       "301    18090\n",
       "Name: status_code, dtype: int64"
      ]
     },
     "execution_count": 15,
     "metadata": {},
     "output_type": "execute_result"
    }
   ],
   "source": [
    "ip_null_df[\"status_code\"].value_counts()"
   ]
  },
  {
   "cell_type": "code",
   "execution_count": 16,
   "id": "c10336d6",
   "metadata": {},
   "outputs": [
    {
     "data": {
      "text/plain": [
       "169    18090\n",
       "Name: response_length, dtype: int64"
      ]
     },
     "execution_count": 16,
     "metadata": {},
     "output_type": "execute_result"
    }
   ],
   "source": [
    "ip_null_df[\"response_length\"].value_counts()"
   ]
  },
  {
   "cell_type": "code",
   "execution_count": 17,
   "id": "e034ab74",
   "metadata": {
    "scrolled": true
   },
   "outputs": [
    {
     "data": {
      "text/plain": [
       "kube-probe/1.21    18090\n",
       "Name: user_agent, dtype: int64"
      ]
     },
     "execution_count": 17,
     "metadata": {},
     "output_type": "execute_result"
    }
   ],
   "source": [
    "ip_null_df[\"user_agent\"].value_counts()"
   ]
  },
  {
   "cell_type": "markdown",
   "id": "502c1d81",
   "metadata": {},
   "source": [
    "#### 3.2.1. Let's remove this part of data from the original dataset and keep them seprately "
   ]
  },
  {
   "cell_type": "code",
   "execution_count": 18,
   "id": "7f786ee1",
   "metadata": {},
   "outputs": [],
   "source": [
    "df.drop(ip_null_df.index, inplace=True)"
   ]
  },
  {
   "cell_type": "code",
   "execution_count": 19,
   "id": "ec771e6f",
   "metadata": {},
   "outputs": [
    {
     "data": {
      "text/plain": [
       "ip                    0\n",
       "time                  0\n",
       "method                0\n",
       "path                  0\n",
       "status_code           0\n",
       "response_length       0\n",
       "user_agent            0\n",
       "response_time      1718\n",
       "dtype: int64"
      ]
     },
     "execution_count": 19,
     "metadata": {},
     "output_type": "execute_result"
    }
   ],
   "source": [
    "df.isnull().sum()"
   ]
  },
  {
   "cell_type": "code",
   "execution_count": 20,
   "id": "dddabb6c",
   "metadata": {
    "scrolled": false
   },
   "outputs": [
    {
     "data": {
      "text/html": [
       "<div>\n",
       "<style scoped>\n",
       "    .dataframe tbody tr th:only-of-type {\n",
       "        vertical-align: middle;\n",
       "    }\n",
       "\n",
       "    .dataframe tbody tr th {\n",
       "        vertical-align: top;\n",
       "    }\n",
       "\n",
       "    .dataframe thead th {\n",
       "        text-align: right;\n",
       "    }\n",
       "</style>\n",
       "<table border=\"1\" class=\"dataframe\">\n",
       "  <thead>\n",
       "    <tr style=\"text-align: right;\">\n",
       "      <th></th>\n",
       "      <th>ip</th>\n",
       "      <th>time</th>\n",
       "      <th>method</th>\n",
       "      <th>path</th>\n",
       "      <th>status_code</th>\n",
       "      <th>response_length</th>\n",
       "      <th>user_agent</th>\n",
       "      <th>response_time</th>\n",
       "    </tr>\n",
       "  </thead>\n",
       "  <tbody>\n",
       "    <tr>\n",
       "      <th>776</th>\n",
       "      <td>20.62.177.11</td>\n",
       "      <td>2021-05-12 05:06:31+04:30</td>\n",
       "      <td>Get</td>\n",
       "      <td>pros/1993352776</td>\n",
       "      <td>200</td>\n",
       "      <td>53479</td>\n",
       "      <td>Mozilla/5.0 (compatible; SemrushBot/7~bl; +htt...</td>\n",
       "      <td>NaN</td>\n",
       "    </tr>\n",
       "    <tr>\n",
       "      <th>2010</th>\n",
       "      <td>20.62.177.60</td>\n",
       "      <td>2021-05-12 05:07:27+04:30</td>\n",
       "      <td>Get</td>\n",
       "      <td>pros/1797822247</td>\n",
       "      <td>200</td>\n",
       "      <td>55330</td>\n",
       "      <td>Mozilla/5.0 (compatible; SemrushBot/7~bl; +htt...</td>\n",
       "      <td>NaN</td>\n",
       "    </tr>\n",
       "    <tr>\n",
       "      <th>2708</th>\n",
       "      <td>20.62.177.133</td>\n",
       "      <td>2021-05-12 05:08:04+04:30</td>\n",
       "      <td>Get</td>\n",
       "      <td>pros/763244865</td>\n",
       "      <td>200</td>\n",
       "      <td>20947</td>\n",
       "      <td>Mozilla/5.0 (compatible; SemrushBot/7~bl; +htt...</td>\n",
       "      <td>NaN</td>\n",
       "    </tr>\n",
       "    <tr>\n",
       "      <th>2866</th>\n",
       "      <td>207.213.193.118</td>\n",
       "      <td>2021-05-12 05:08:18+04:30</td>\n",
       "      <td>Get</td>\n",
       "      <td>pages/1939232229</td>\n",
       "      <td>301</td>\n",
       "      <td>169</td>\n",
       "      <td>Mozilla/5.0 (Linux; Android 6.0.1; Nexus 5X Bu...</td>\n",
       "      <td>NaN</td>\n",
       "    </tr>\n",
       "    <tr>\n",
       "      <th>3468</th>\n",
       "      <td>20.62.177.4</td>\n",
       "      <td>2021-05-12 05:08:49+04:30</td>\n",
       "      <td>Get</td>\n",
       "      <td>pros/2084824811</td>\n",
       "      <td>200</td>\n",
       "      <td>37060</td>\n",
       "      <td>Mozilla/5.0 (compatible; SemrushBot/7~bl; +htt...</td>\n",
       "      <td>NaN</td>\n",
       "    </tr>\n",
       "  </tbody>\n",
       "</table>\n",
       "</div>"
      ],
      "text/plain": [
       "                   ip                      time method              path  \\\n",
       "776      20.62.177.11 2021-05-12 05:06:31+04:30    Get   pros/1993352776   \n",
       "2010     20.62.177.60 2021-05-12 05:07:27+04:30    Get   pros/1797822247   \n",
       "2708    20.62.177.133 2021-05-12 05:08:04+04:30    Get    pros/763244865   \n",
       "2866  207.213.193.118 2021-05-12 05:08:18+04:30    Get  pages/1939232229   \n",
       "3468      20.62.177.4 2021-05-12 05:08:49+04:30    Get   pros/2084824811   \n",
       "\n",
       "      status_code  response_length  \\\n",
       "776           200            53479   \n",
       "2010          200            55330   \n",
       "2708          200            20947   \n",
       "2866          301              169   \n",
       "3468          200            37060   \n",
       "\n",
       "                                             user_agent  response_time  \n",
       "776   Mozilla/5.0 (compatible; SemrushBot/7~bl; +htt...            NaN  \n",
       "2010  Mozilla/5.0 (compatible; SemrushBot/7~bl; +htt...            NaN  \n",
       "2708  Mozilla/5.0 (compatible; SemrushBot/7~bl; +htt...            NaN  \n",
       "2866  Mozilla/5.0 (Linux; Android 6.0.1; Nexus 5X Bu...            NaN  \n",
       "3468  Mozilla/5.0 (compatible; SemrushBot/7~bl; +htt...            NaN  "
      ]
     },
     "execution_count": 20,
     "metadata": {},
     "output_type": "execute_result"
    }
   ],
   "source": [
    "df[df[\"response_time\"].isnull()].head()"
   ]
  },
  {
   "cell_type": "markdown",
   "id": "90f8a305",
   "metadata": {},
   "source": [
    "#### 3.2.2 Let's replace these Nan values with 999 "
   ]
  },
  {
   "cell_type": "code",
   "execution_count": 21,
   "id": "5358b374",
   "metadata": {},
   "outputs": [
    {
     "name": "stdout",
     "output_type": "stream",
     "text": [
      "Minimum of response_time 0.0\n",
      "Maximum of response_time 175047044.0\n"
     ]
    }
   ],
   "source": [
    "print(\"Minimum of response_time\", min(df[\"response_time\"].unique()))\n",
    "print(\"Maximum of response_time\", max(df[\"response_time\"].unique()))"
   ]
  },
  {
   "cell_type": "code",
   "execution_count": 22,
   "id": "596a03ea",
   "metadata": {},
   "outputs": [],
   "source": [
    "if 999 not in df[\"response_time\"].unique():\n",
    "    df[\"response_time\"] = df[\"response_time\"].fillna(999)\n",
    "else:\n",
    "    print(\"999 is in response_time\")\n",
    "    "
   ]
  },
  {
   "cell_type": "code",
   "execution_count": 23,
   "id": "9cbf16aa",
   "metadata": {
    "scrolled": true
   },
   "outputs": [
    {
     "data": {
      "text/plain": [
       "ip                 0\n",
       "time               0\n",
       "method             0\n",
       "path               0\n",
       "status_code        0\n",
       "response_length    0\n",
       "user_agent         0\n",
       "response_time      0\n",
       "dtype: int64"
      ]
     },
     "execution_count": 23,
     "metadata": {},
     "output_type": "execute_result"
    }
   ],
   "source": [
    "df.isnull().sum()"
   ]
  },
  {
   "cell_type": "code",
   "execution_count": 24,
   "id": "7c1c0dc4",
   "metadata": {
    "scrolled": true
   },
   "outputs": [
    {
     "data": {
      "text/html": [
       "<div>\n",
       "<style scoped>\n",
       "    .dataframe tbody tr th:only-of-type {\n",
       "        vertical-align: middle;\n",
       "    }\n",
       "\n",
       "    .dataframe tbody tr th {\n",
       "        vertical-align: top;\n",
       "    }\n",
       "\n",
       "    .dataframe thead th {\n",
       "        text-align: right;\n",
       "    }\n",
       "</style>\n",
       "<table border=\"1\" class=\"dataframe\">\n",
       "  <thead>\n",
       "    <tr style=\"text-align: right;\">\n",
       "      <th></th>\n",
       "      <th>ip</th>\n",
       "      <th>time</th>\n",
       "      <th>method</th>\n",
       "      <th>path</th>\n",
       "      <th>status_code</th>\n",
       "      <th>response_length</th>\n",
       "      <th>user_agent</th>\n",
       "      <th>response_time</th>\n",
       "    </tr>\n",
       "  </thead>\n",
       "  <tbody>\n",
       "    <tr>\n",
       "      <th>155</th>\n",
       "      <td>20.117.146.75</td>\n",
       "      <td>2021-05-12 05:06:06+04:30</td>\n",
       "      <td>Get</td>\n",
       "      <td></td>\n",
       "      <td>307</td>\n",
       "      <td>0</td>\n",
       "      <td>Go-http-client/2.0</td>\n",
       "      <td>4.0</td>\n",
       "    </tr>\n",
       "    <tr>\n",
       "      <th>360</th>\n",
       "      <td>20.92.247.170</td>\n",
       "      <td>2021-05-12 05:06:13+04:30</td>\n",
       "      <td>Get</td>\n",
       "      <td></td>\n",
       "      <td>307</td>\n",
       "      <td>0</td>\n",
       "      <td>Go-http-client/2.0</td>\n",
       "      <td>8.0</td>\n",
       "    </tr>\n",
       "    <tr>\n",
       "      <th>622</th>\n",
       "      <td>76.212.164.3</td>\n",
       "      <td>2021-05-12 05:06:24+04:30</td>\n",
       "      <td>Get</td>\n",
       "      <td></td>\n",
       "      <td>307</td>\n",
       "      <td>0</td>\n",
       "      <td>Go-http-client/2.0</td>\n",
       "      <td>0.0</td>\n",
       "    </tr>\n",
       "    <tr>\n",
       "      <th>645</th>\n",
       "      <td>93.113.99.115</td>\n",
       "      <td>2021-05-12 05:06:25+04:30</td>\n",
       "      <td>Get</td>\n",
       "      <td></td>\n",
       "      <td>307</td>\n",
       "      <td>0</td>\n",
       "      <td>Go-http-client/2.0</td>\n",
       "      <td>12.0</td>\n",
       "    </tr>\n",
       "    <tr>\n",
       "      <th>828</th>\n",
       "      <td>36.67.23.210</td>\n",
       "      <td>2021-05-12 05:06:36+04:30</td>\n",
       "      <td>Get</td>\n",
       "      <td></td>\n",
       "      <td>307</td>\n",
       "      <td>0</td>\n",
       "      <td>Go-http-client/2.0</td>\n",
       "      <td>12.0</td>\n",
       "    </tr>\n",
       "    <tr>\n",
       "      <th>...</th>\n",
       "      <td>...</td>\n",
       "      <td>...</td>\n",
       "      <td>...</td>\n",
       "      <td>...</td>\n",
       "      <td>...</td>\n",
       "      <td>...</td>\n",
       "      <td>...</td>\n",
       "      <td>...</td>\n",
       "    </tr>\n",
       "    <tr>\n",
       "      <th>1259000</th>\n",
       "      <td>20.92.247.170</td>\n",
       "      <td>2021-05-12 15:08:25+04:30</td>\n",
       "      <td>Get</td>\n",
       "      <td></td>\n",
       "      <td>307</td>\n",
       "      <td>0</td>\n",
       "      <td>Go-http-client/2.0</td>\n",
       "      <td>4.0</td>\n",
       "    </tr>\n",
       "    <tr>\n",
       "      <th>1259140</th>\n",
       "      <td>93.113.99.115</td>\n",
       "      <td>2021-05-12 15:08:28+04:30</td>\n",
       "      <td>Get</td>\n",
       "      <td></td>\n",
       "      <td>307</td>\n",
       "      <td>0</td>\n",
       "      <td>Go-http-client/2.0</td>\n",
       "      <td>8.0</td>\n",
       "    </tr>\n",
       "    <tr>\n",
       "      <th>1259155</th>\n",
       "      <td>238.129.28.160</td>\n",
       "      <td>2021-05-12 15:08:29+04:30</td>\n",
       "      <td>Get</td>\n",
       "      <td></td>\n",
       "      <td>307</td>\n",
       "      <td>0</td>\n",
       "      <td>Mozilla/5.0 (Windows NT 6.1) AppleWebKit/537.3...</td>\n",
       "      <td>4.0</td>\n",
       "    </tr>\n",
       "    <tr>\n",
       "      <th>1259505</th>\n",
       "      <td>60.148.0.167</td>\n",
       "      <td>2021-05-12 15:08:41+04:30</td>\n",
       "      <td>Get</td>\n",
       "      <td></td>\n",
       "      <td>307</td>\n",
       "      <td>0</td>\n",
       "      <td>Go-http-client/2.0</td>\n",
       "      <td>4.0</td>\n",
       "    </tr>\n",
       "    <tr>\n",
       "      <th>1259974</th>\n",
       "      <td>186.236.39.213</td>\n",
       "      <td>2021-05-12 15:08:58+04:30</td>\n",
       "      <td>Head</td>\n",
       "      <td></td>\n",
       "      <td>405</td>\n",
       "      <td>0</td>\n",
       "      <td>Mozilla/5.0+(compatible; UptimeRobot/2.0; http...</td>\n",
       "      <td>16.0</td>\n",
       "    </tr>\n",
       "  </tbody>\n",
       "</table>\n",
       "<p>5975 rows × 8 columns</p>\n",
       "</div>"
      ],
      "text/plain": [
       "                     ip                      time method path  status_code  \\\n",
       "155       20.117.146.75 2021-05-12 05:06:06+04:30    Get               307   \n",
       "360       20.92.247.170 2021-05-12 05:06:13+04:30    Get               307   \n",
       "622        76.212.164.3 2021-05-12 05:06:24+04:30    Get               307   \n",
       "645       93.113.99.115 2021-05-12 05:06:25+04:30    Get               307   \n",
       "828        36.67.23.210 2021-05-12 05:06:36+04:30    Get               307   \n",
       "...                 ...                       ...    ...  ...          ...   \n",
       "1259000   20.92.247.170 2021-05-12 15:08:25+04:30    Get               307   \n",
       "1259140   93.113.99.115 2021-05-12 15:08:28+04:30    Get               307   \n",
       "1259155  238.129.28.160 2021-05-12 15:08:29+04:30    Get               307   \n",
       "1259505    60.148.0.167 2021-05-12 15:08:41+04:30    Get               307   \n",
       "1259974  186.236.39.213 2021-05-12 15:08:58+04:30   Head               405   \n",
       "\n",
       "         response_length                                         user_agent  \\\n",
       "155                    0                                 Go-http-client/2.0   \n",
       "360                    0                                 Go-http-client/2.0   \n",
       "622                    0                                 Go-http-client/2.0   \n",
       "645                    0                                 Go-http-client/2.0   \n",
       "828                    0                                 Go-http-client/2.0   \n",
       "...                  ...                                                ...   \n",
       "1259000                0                                 Go-http-client/2.0   \n",
       "1259140                0                                 Go-http-client/2.0   \n",
       "1259155                0  Mozilla/5.0 (Windows NT 6.1) AppleWebKit/537.3...   \n",
       "1259505                0                                 Go-http-client/2.0   \n",
       "1259974                0  Mozilla/5.0+(compatible; UptimeRobot/2.0; http...   \n",
       "\n",
       "         response_time  \n",
       "155                4.0  \n",
       "360                8.0  \n",
       "622                0.0  \n",
       "645               12.0  \n",
       "828               12.0  \n",
       "...                ...  \n",
       "1259000            4.0  \n",
       "1259140            8.0  \n",
       "1259155            4.0  \n",
       "1259505            4.0  \n",
       "1259974           16.0  \n",
       "\n",
       "[5975 rows x 8 columns]"
      ]
     },
     "execution_count": 24,
     "metadata": {},
     "output_type": "execute_result"
    }
   ],
   "source": [
    "df[df[\"path\"] == \"\"]"
   ]
  },
  {
   "cell_type": "code",
   "execution_count": 25,
   "id": "65f17e8b",
   "metadata": {},
   "outputs": [
    {
     "data": {
      "text/plain": [
       "array(['Get', 'Head'], dtype=object)"
      ]
     },
     "execution_count": 25,
     "metadata": {},
     "output_type": "execute_result"
    }
   ],
   "source": [
    "df[df[\"path\"] == \"\"][\"method\"].unique()"
   ]
  },
  {
   "cell_type": "code",
   "execution_count": 26,
   "id": "a8e5dbb3",
   "metadata": {},
   "outputs": [
    {
     "data": {
      "text/plain": [
       "array([307, 405, 301, 499], dtype=int64)"
      ]
     },
     "execution_count": 26,
     "metadata": {},
     "output_type": "execute_result"
    }
   ],
   "source": [
    "df[df[\"path\"] == \"\"][\"status_code\"].unique()"
   ]
  },
  {
   "cell_type": "code",
   "execution_count": 27,
   "id": "0b4d5d5f",
   "metadata": {},
   "outputs": [
    {
     "data": {
      "text/plain": [
       "array([  0, 169], dtype=int64)"
      ]
     },
     "execution_count": 27,
     "metadata": {},
     "output_type": "execute_result"
    }
   ],
   "source": [
    "df[df[\"path\"] == \"\"][\"response_length\"].unique()"
   ]
  },
  {
   "cell_type": "code",
   "execution_count": 28,
   "id": "9be0366c",
   "metadata": {},
   "outputs": [
    {
     "data": {
      "text/plain": [
       "321"
      ]
     },
     "execution_count": 28,
     "metadata": {},
     "output_type": "execute_result"
    }
   ],
   "source": [
    "df[df[\"path\"] == \"\"][\"user_agent\"].nunique()"
   ]
  },
  {
   "cell_type": "code",
   "execution_count": 29,
   "id": "ca7eae65",
   "metadata": {
    "scrolled": false
   },
   "outputs": [
    {
     "data": {
      "text/plain": [
       "579"
      ]
     },
     "execution_count": 29,
     "metadata": {},
     "output_type": "execute_result"
    }
   ],
   "source": [
    "df[df[\"path\"] == \"\"][\"ip\"].nunique()"
   ]
  },
  {
   "cell_type": "markdown",
   "id": "85a73821",
   "metadata": {},
   "source": [
    "### 3.3. Graphs"
   ]
  },
  {
   "cell_type": "markdown",
   "id": "558fb8d2",
   "metadata": {},
   "source": [
    "#### 3.3.1. The most common IP addresses"
   ]
  },
  {
   "cell_type": "code",
   "execution_count": 30,
   "id": "ceac1705",
   "metadata": {},
   "outputs": [
    {
     "data": {
      "image/png": "[encoded data removed]",
      "text/plain": [
       "<Figure size 864x432 with 1 Axes>"
      ]
     },
     "metadata": {
      "needs_background": "light"
     },
     "output_type": "display_data"
    }
   ],
   "source": [
    "plt.figure(figsize=(12,6))\n",
    "sns.countplot(y=\"ip\", data = df, order = df[\"ip\"].value_counts().head(20).index, color =\"b\")\n",
    "plt.title(\"The most visited IP Adresses\")\n",
    "plt.ylabel(\"IP Adresses\")\n",
    "plt.xlabel(\"Number of visits\")\n",
    "plt.show()"
   ]
  },
  {
   "cell_type": "markdown",
   "id": "38e04a59",
   "metadata": {},
   "source": [
    "#### 3.3.2. The most requested methods"
   ]
  },
  {
   "cell_type": "code",
   "execution_count": 31,
   "id": "4ff4116e",
   "metadata": {},
   "outputs": [
    {
     "data": {
      "image/png": "[encoded data removed]",
      "text/plain": [
       "<Figure size 864x432 with 1 Axes>"
      ]
     },
     "metadata": {
      "needs_background": "light"
     },
     "output_type": "display_data"
    }
   ],
   "source": [
    "plt.figure(figsize=(12,6))\n",
    "sns.countplot(x=\"method\", data = df, order = df[\"method\"].value_counts().head(20).index, color =\"b\")\n",
    "plt.title(\"The most requested methods\")\n",
    "plt.xlabel(\"Methods\")\n",
    "plt.ylabel(\"Counts\")\n",
    "plt.show()"
   ]
  },
  {
   "cell_type": "markdown",
   "id": "a468525f",
   "metadata": {},
   "source": [
    "#### 3.3.3 The most visited paths"
   ]
  },
  {
   "cell_type": "code",
   "execution_count": 32,
   "id": "a71b066a",
   "metadata": {
    "scrolled": false
   },
   "outputs": [
    {
     "data": {
      "image/png": "[encoded data removed]",
      "text/plain": [
       "<Figure size 864x432 with 1 Axes>"
      ]
     },
     "metadata": {
      "needs_background": "light"
     },
     "output_type": "display_data"
    }
   ],
   "source": [
    "plt.figure(figsize=(12,6))\n",
    "sns.countplot(y=\"path\", data = df, order = df[\"path\"].value_counts().head(20).index, color =\"b\")\n",
    "plt.title(\"The most rvisited paths\")\n",
    "plt.ylabel(\"Paths\")\n",
    "plt.xlabel(\"Number of visits\")\n",
    "plt.show()"
   ]
  },
  {
   "cell_type": "markdown",
   "id": "3a988576",
   "metadata": {},
   "source": [
    "#### 3.3.4. The most status_codes"
   ]
  },
  {
   "cell_type": "code",
   "execution_count": 33,
   "id": "7c64b4e8",
   "metadata": {
    "scrolled": false
   },
   "outputs": [
    {
     "data": {
      "image/png": "[encoded data removed]",
      "text/plain": [
       "<Figure size 864x432 with 1 Axes>"
      ]
     },
     "metadata": {
      "needs_background": "light"
     },
     "output_type": "display_data"
    }
   ],
   "source": [
    "plt.figure(figsize=(12,6))\n",
    "sns.countplot(x=\"status_code\", data = df, order = df[\"status_code\"].value_counts().head(20).index, color =\"b\")\n",
    "plt.title(\"The most status_codes\")\n",
    "plt.xlabel(\"status_codes\")\n",
    "plt.ylabel(\"Counts\")\n",
    "plt.show()"
   ]
  },
  {
   "cell_type": "markdown",
   "id": "20fd041c",
   "metadata": {},
   "source": [
    "#### Statuus code meaning:\n",
    "#### 200: “Everything is OK.” This is the code that is delivered when a web page or resource acts exactly the way it’s expected to.\n",
    "#### 304: “The requested resource has not been modified since the last time you accessed it.” This code tells the browser that the   resources stored in the browser cache haven’t changed. It’s used to speed up web page delivery by reusing previously downloaded resources\n",
    "#### 101: “Switching protocols.” Your browser has asked the server to change protocols, and the server has complied.\n",
    "#### 307: “Temporary Redirect.” This status code has replaced 302 “Found” as the appropriate action when a resource has been  temporarily moved to a different URL. Unlike the 302 status code, it does not allow the HTTP method to change.\n",
    "#### 404: “The requested resource was not found.” This is the most common error message of them all. This code means that the requested resource does not exist, and the server does not know if it ever existed.\n",
    "#### 301: “The requested resource has been moved permanently.” This code is delivered when a web page or resource has been permanently replaced with a different resource. It is used for permanent URL redirection.\n",
    "#### 499: “Client closed request.” This is returned by NGINX when the client closes the request while Nginx is still processing it."
   ]
  },
  {
   "cell_type": "markdown",
   "id": "383c621f",
   "metadata": {},
   "source": [
    "#### 3.3.5. User agents components (https://pypi.org/project/user-agents/)"
   ]
  },
  {
   "cell_type": "markdown",
   "id": "c294e83e",
   "metadata": {},
   "source": [
    "#### User agent tells the server what the visiting device is. \n",
    "#### Every device type, including phones, tablets, desktops, may come with its own UA that makes it possible to detect this device for any purpose. Interestingly bots and crawlers also come with their unique UAs.\n",
    " "
   ]
  },
  {
   "cell_type": "code",
   "execution_count": 34,
   "id": "11e19648",
   "metadata": {},
   "outputs": [],
   "source": [
    "df[\"browser\"] = df['user_agent'].apply(lambda x: parse(x).browser.family)"
   ]
  },
  {
   "cell_type": "code",
   "execution_count": 35,
   "id": "38cb6954",
   "metadata": {},
   "outputs": [],
   "source": [
    "df[\"os\"] = df['user_agent'].apply(lambda x: parse(x).os.family)"
   ]
  },
  {
   "cell_type": "code",
   "execution_count": 36,
   "id": "cac8c6c1",
   "metadata": {},
   "outputs": [],
   "source": [
    "df[\"is_pc\"] = df['user_agent'].apply(lambda x: parse(x).is_pc)"
   ]
  },
  {
   "cell_type": "code",
   "execution_count": 37,
   "id": "912e07c3",
   "metadata": {},
   "outputs": [],
   "source": [
    "df[\"is_bot\"] = df['user_agent'].apply(lambda x: parse(x).is_bot)"
   ]
  },
  {
   "cell_type": "code",
   "execution_count": 38,
   "id": "99f74394",
   "metadata": {
    "scrolled": true
   },
   "outputs": [
    {
     "data": {
      "text/html": [
       "<div>\n",
       "<style scoped>\n",
       "    .dataframe tbody tr th:only-of-type {\n",
       "        vertical-align: middle;\n",
       "    }\n",
       "\n",
       "    .dataframe tbody tr th {\n",
       "        vertical-align: top;\n",
       "    }\n",
       "\n",
       "    .dataframe thead th {\n",
       "        text-align: right;\n",
       "    }\n",
       "</style>\n",
       "<table border=\"1\" class=\"dataframe\">\n",
       "  <thead>\n",
       "    <tr style=\"text-align: right;\">\n",
       "      <th></th>\n",
       "      <th>ip</th>\n",
       "      <th>time</th>\n",
       "      <th>method</th>\n",
       "      <th>path</th>\n",
       "      <th>status_code</th>\n",
       "      <th>response_length</th>\n",
       "      <th>user_agent</th>\n",
       "      <th>response_time</th>\n",
       "      <th>browser</th>\n",
       "      <th>os</th>\n",
       "      <th>is_pc</th>\n",
       "      <th>is_bot</th>\n",
       "    </tr>\n",
       "  </thead>\n",
       "  <tbody>\n",
       "    <tr>\n",
       "      <th>0</th>\n",
       "      <td>207.213.193.143</td>\n",
       "      <td>2021-05-12 05:06:00+04:30</td>\n",
       "      <td>Get</td>\n",
       "      <td>cdn/profiles/1026106239</td>\n",
       "      <td>304</td>\n",
       "      <td>0</td>\n",
       "      <td>Googlebot-Image/1.0</td>\n",
       "      <td>32.0</td>\n",
       "      <td>Googlebot-Image</td>\n",
       "      <td>Other</td>\n",
       "      <td>False</td>\n",
       "      <td>True</td>\n",
       "    </tr>\n",
       "    <tr>\n",
       "      <th>1</th>\n",
       "      <td>207.213.193.143</td>\n",
       "      <td>2021-05-12 05:06:00+04:30</td>\n",
       "      <td>Get</td>\n",
       "      <td>images/badge.png</td>\n",
       "      <td>304</td>\n",
       "      <td>0</td>\n",
       "      <td>Googlebot-Image/1.0</td>\n",
       "      <td>4.0</td>\n",
       "      <td>Googlebot-Image</td>\n",
       "      <td>Other</td>\n",
       "      <td>False</td>\n",
       "      <td>True</td>\n",
       "    </tr>\n",
       "    <tr>\n",
       "      <th>2</th>\n",
       "      <td>35.110.222.153</td>\n",
       "      <td>2021-05-12 05:06:00+04:30</td>\n",
       "      <td>Get</td>\n",
       "      <td>pages/630180847</td>\n",
       "      <td>200</td>\n",
       "      <td>52567</td>\n",
       "      <td>Mozilla/5.0 (Linux; Android 6.0.1; SAMSUNG SM-...</td>\n",
       "      <td>32.0</td>\n",
       "      <td>Samsung Internet</td>\n",
       "      <td>Android</td>\n",
       "      <td>False</td>\n",
       "      <td>False</td>\n",
       "    </tr>\n",
       "    <tr>\n",
       "      <th>3</th>\n",
       "      <td>35.108.208.99</td>\n",
       "      <td>2021-05-12 05:06:00+04:30</td>\n",
       "      <td>Get</td>\n",
       "      <td>images/fav_icon2.ico</td>\n",
       "      <td>200</td>\n",
       "      <td>23531</td>\n",
       "      <td>Mozilla/5.0 (Linux; Android 6.0; CAM-L21) Appl...</td>\n",
       "      <td>20.0</td>\n",
       "      <td>Chrome Mobile</td>\n",
       "      <td>Android</td>\n",
       "      <td>False</td>\n",
       "      <td>False</td>\n",
       "    </tr>\n",
       "    <tr>\n",
       "      <th>4</th>\n",
       "      <td>35.110.222.153</td>\n",
       "      <td>2021-05-12 05:06:00+04:30</td>\n",
       "      <td>Get</td>\n",
       "      <td>images/sanjagh_logo_purpule5.png</td>\n",
       "      <td>200</td>\n",
       "      <td>4680</td>\n",
       "      <td>Mozilla/5.0 (Linux; Android 6.0.1; SAMSUNG SM-...</td>\n",
       "      <td>8.0</td>\n",
       "      <td>Samsung Internet</td>\n",
       "      <td>Android</td>\n",
       "      <td>False</td>\n",
       "      <td>False</td>\n",
       "    </tr>\n",
       "  </tbody>\n",
       "</table>\n",
       "</div>"
      ],
      "text/plain": [
       "                ip                      time method  \\\n",
       "0  207.213.193.143 2021-05-12 05:06:00+04:30    Get   \n",
       "1  207.213.193.143 2021-05-12 05:06:00+04:30    Get   \n",
       "2   35.110.222.153 2021-05-12 05:06:00+04:30    Get   \n",
       "3    35.108.208.99 2021-05-12 05:06:00+04:30    Get   \n",
       "4   35.110.222.153 2021-05-12 05:06:00+04:30    Get   \n",
       "\n",
       "                               path  status_code  response_length  \\\n",
       "0           cdn/profiles/1026106239          304                0   \n",
       "1                  images/badge.png          304                0   \n",
       "2                   pages/630180847          200            52567   \n",
       "3              images/fav_icon2.ico          200            23531   \n",
       "4  images/sanjagh_logo_purpule5.png          200             4680   \n",
       "\n",
       "                                          user_agent  response_time  \\\n",
       "0                                Googlebot-Image/1.0           32.0   \n",
       "1                                Googlebot-Image/1.0            4.0   \n",
       "2  Mozilla/5.0 (Linux; Android 6.0.1; SAMSUNG SM-...           32.0   \n",
       "3  Mozilla/5.0 (Linux; Android 6.0; CAM-L21) Appl...           20.0   \n",
       "4  Mozilla/5.0 (Linux; Android 6.0.1; SAMSUNG SM-...            8.0   \n",
       "\n",
       "            browser       os  is_pc  is_bot  \n",
       "0   Googlebot-Image    Other  False    True  \n",
       "1   Googlebot-Image    Other  False    True  \n",
       "2  Samsung Internet  Android  False   False  \n",
       "3     Chrome Mobile  Android  False   False  \n",
       "4  Samsung Internet  Android  False   False  "
      ]
     },
     "execution_count": 38,
     "metadata": {},
     "output_type": "execute_result"
    }
   ],
   "source": [
    "df.head()"
   ]
  },
  {
   "cell_type": "markdown",
   "id": "d5e168ab",
   "metadata": {},
   "source": [
    "##### 3.3.5.1. The most used browsers"
   ]
  },
  {
   "cell_type": "code",
   "execution_count": 39,
   "id": "133b1f6d",
   "metadata": {
    "scrolled": false
   },
   "outputs": [
    {
     "data": {
      "image/png": "[encoded data removed]",
      "text/plain": [
       "<Figure size 864x432 with 1 Axes>"
      ]
     },
     "metadata": {
      "needs_background": "light"
     },
     "output_type": "display_data"
    }
   ],
   "source": [
    "plt.figure(figsize=(12,6))\n",
    "sns.countplot(y=\"browser\", data = df, order = df[\"browser\"].value_counts().head(20).index, color =\"b\")\n",
    "plt.title(\"The most used browsers\")\n",
    "plt.ylabel(\"browser\")\n",
    "plt.xlabel(\"Counts\")\n",
    "plt.show()"
   ]
  },
  {
   "cell_type": "code",
   "execution_count": 40,
   "id": "905c88bb",
   "metadata": {},
   "outputs": [
    {
     "name": "stdout",
     "output_type": "stream",
     "text": [
      "Number of unique browsers:  80\n"
     ]
    }
   ],
   "source": [
    "print(\"Number of unique browsers: \", df[\"browser\"].nunique())"
   ]
  },
  {
   "cell_type": "code",
   "execution_count": 41,
   "id": "aeba4d79",
   "metadata": {},
   "outputs": [
    {
     "data": {
      "image/png": "[encoded data removed]",
      "text/plain": [
       "<Figure size 864x432 with 1 Axes>"
      ]
     },
     "metadata": {
      "needs_background": "light"
     },
     "output_type": "display_data"
    }
   ],
   "source": [
    "plt.figure(figsize=(12,6))\n",
    "sns.countplot(y=\"browser\", data = df, order = df[\"browser\"].value_counts().tail(30).index, color =\"b\")\n",
    "plt.title(\"The least used browsers\")\n",
    "plt.ylabel(\"browser\")\n",
    "plt.xlabel(\"Counts\")\n",
    "plt.show()"
   ]
  },
  {
   "cell_type": "markdown",
   "id": "55626955",
   "metadata": {},
   "source": [
    "##### 3.3.5.2 The most used OS"
   ]
  },
  {
   "cell_type": "code",
   "execution_count": 42,
   "id": "900254a3",
   "metadata": {
    "scrolled": false
   },
   "outputs": [
    {
     "data": {
      "image/png": "[encoded data removed]",
      "text/plain": [
       "<Figure size 864x432 with 1 Axes>"
      ]
     },
     "metadata": {
      "needs_background": "light"
     },
     "output_type": "display_data"
    }
   ],
   "source": [
    "plt.figure(figsize=(12,6))\n",
    "sns.countplot(x=\"os\", data = df, order = df[\"os\"].value_counts().head(20).index, color =\"b\")\n",
    "plt.title(\"The most used OS\")\n",
    "plt.xlabel(\"OS\")\n",
    "plt.xticks(rotation = 45)\n",
    "plt.ylabel(\"Counts\")\n",
    "plt.show()"
   ]
  },
  {
   "cell_type": "code",
   "execution_count": 43,
   "id": "e6f402b7",
   "metadata": {},
   "outputs": [
    {
     "name": "stdout",
     "output_type": "stream",
     "text": [
      "Number of unique OS:  13\n"
     ]
    }
   ],
   "source": [
    "print(\"Number of unique OS: \", df[\"os\"].nunique())"
   ]
  },
  {
   "cell_type": "markdown",
   "id": "3e613b06",
   "metadata": {},
   "source": [
    "##### 3.3.5.3 Distribution of PCs and Bots"
   ]
  },
  {
   "cell_type": "code",
   "execution_count": 44,
   "id": "8f00806a",
   "metadata": {
    "scrolled": true
   },
   "outputs": [
    {
     "data": {
      "image/png": "[encoded data removed]",
      "text/plain": [
       "<Figure size 1080x432 with 2 Axes>"
      ]
     },
     "metadata": {
      "needs_background": "light"
     },
     "output_type": "display_data"
    }
   ],
   "source": [
    "fig, ax = plt.subplots(1, 2, figsize=(15,6))\n",
    "axes = ax.ravel()\n",
    "sns.countplot(x=\"is_pc\", data = df, order = df[\"is_pc\"].value_counts().head(20).index, color =\"b\", ax=axes[0])\n",
    "sns.countplot(x=\"is_bot\", data = df, order = df[\"is_bot\"].value_counts().head(20).index, color =\"b\", ax=axes[1])\n",
    "plt.show()"
   ]
  },
  {
   "cell_type": "markdown",
   "id": "8bccbf89",
   "metadata": {},
   "source": [
    "#### 3.3.6 Response time and Response lenght "
   ]
  },
  {
   "cell_type": "markdown",
   "id": "bef76e09",
   "metadata": {},
   "source": [
    "### their unit????"
   ]
  },
  {
   "cell_type": "code",
   "execution_count": 45,
   "id": "d4044d0e",
   "metadata": {},
   "outputs": [
    {
     "data": {
      "text/plain": [
       "count    1.241944e+06\n",
       "mean     4.647441e+04\n",
       "std      3.374295e+05\n",
       "min      0.000000e+00\n",
       "25%      0.000000e+00\n",
       "50%      1.201000e+03\n",
       "75%      2.741100e+04\n",
       "max      1.022335e+08\n",
       "Name: response_length, dtype: float64"
      ]
     },
     "execution_count": 45,
     "metadata": {},
     "output_type": "execute_result"
    }
   ],
   "source": [
    "df.response_length.describe()"
   ]
  },
  {
   "cell_type": "code",
   "execution_count": 46,
   "id": "27bc6dc4",
   "metadata": {
    "scrolled": true
   },
   "outputs": [
    {
     "data": {
      "text/plain": [
       "count    1.241944e+06\n",
       "mean     6.811141e+03\n",
       "std      1.844408e+05\n",
       "min      0.000000e+00\n",
       "25%      4.000000e+00\n",
       "50%      1.200000e+01\n",
       "75%      2.400000e+01\n",
       "max      1.750470e+08\n",
       "Name: response_time, dtype: float64"
      ]
     },
     "execution_count": 46,
     "metadata": {},
     "output_type": "execute_result"
    }
   ],
   "source": [
    "df.response_time.describe()"
   ]
  },
  {
   "cell_type": "code",
   "execution_count": 48,
   "id": "29fce90b",
   "metadata": {},
   "outputs": [
    {
     "data": {
      "text/plain": [
       "(1241944, 12)"
      ]
     },
     "execution_count": 48,
     "metadata": {},
     "output_type": "execute_result"
    }
   ],
   "source": [
    "df.shape"
   ]
  },
  {
   "cell_type": "code",
   "execution_count": 47,
   "id": "b958f67e",
   "metadata": {},
   "outputs": [],
   "source": [
    "# df.to_csv(\"../input/processed_output_log.csv\", index=False)"
   ]
  }
 ],
 "metadata": {
  "kernelspec": {
   "display_name": "Python 3 (ipykernel)",
   "language": "python",
   "name": "python3"
  },
  "language_info": {
   "codemirror_mode": {
    "name": "ipython",
    "version": 3
   },
   "file_extension": ".py",
   "mimetype": "text/x-python",
   "name": "python",
   "nbconvert_exporter": "python",
   "pygments_lexer": "ipython3",
   "version": "3.9.7"
  }
 },
 "nbformat": 4,
 "nbformat_minor": 5
}
