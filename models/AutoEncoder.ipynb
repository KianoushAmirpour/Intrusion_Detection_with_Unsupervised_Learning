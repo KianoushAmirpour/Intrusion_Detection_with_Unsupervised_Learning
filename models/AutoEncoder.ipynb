{
 "cells": [
  {
   "cell_type": "code",
   "execution_count": 1,
   "id": "14c03c86",
   "metadata": {},
   "outputs": [],
   "source": [
    "import os\n",
    "import sys\n",
    "sys.path.append('../')\n",
    "import random\n",
    "import numpy as np\n",
    "import pandas as pd\n",
    "import seaborn as sns\n",
    "sns.set_style('darkgrid')\n",
    "import matplotlib.pyplot as plt\n",
    "from sklearn.model_selection import train_test_split\n",
    "from sklearn.preprocessing import QuantileTransformer, StandardScaler\n",
    "from sklearn.decomposition import PCA\n",
    "\n",
    "import torch\n",
    "from torch import nn\n",
    "import torch.nn.functional  as F\n",
    "from torch.utils.data import DataLoader, Dataset"
   ]
  },
  {
   "cell_type": "code",
   "execution_count": 2,
   "id": "15c658b5",
   "metadata": {},
   "outputs": [],
   "source": [
    "df = pd.read_csv(\"../input/features.csv\")"
   ]
  },
  {
   "cell_type": "code",
   "execution_count": 3,
   "id": "fa0eaadc",
   "metadata": {},
   "outputs": [
    {
     "data": {
      "text/html": [
       "<div>\n",
       "<style scoped>\n",
       "    .dataframe tbody tr th:only-of-type {\n",
       "        vertical-align: middle;\n",
       "    }\n",
       "\n",
       "    .dataframe tbody tr th {\n",
       "        vertical-align: top;\n",
       "    }\n",
       "\n",
       "    .dataframe thead th {\n",
       "        text-align: right;\n",
       "    }\n",
       "</style>\n",
       "<table border=\"1\" class=\"dataframe\">\n",
       "  <thead>\n",
       "    <tr style=\"text-align: right;\">\n",
       "      <th></th>\n",
       "      <th>ip</th>\n",
       "      <th>user_agent</th>\n",
       "      <th>session</th>\n",
       "      <th>num_requests</th>\n",
       "      <th>img_to_req(%)</th>\n",
       "      <th>4xx(%)</th>\n",
       "      <th>Head(%)</th>\n",
       "      <th>std_path_length</th>\n",
       "      <th>consq_rep_path(%)</th>\n",
       "      <th>ave_response_len</th>\n",
       "      <th>sum_response_len</th>\n",
       "      <th>ave_response_time</th>\n",
       "      <th>sum_response_time</th>\n",
       "      <th>session_duration</th>\n",
       "      <th>ave_time_per_page</th>\n",
       "      <th>robot_txt</th>\n",
       "      <th>is_bot</th>\n",
       "    </tr>\n",
       "  </thead>\n",
       "  <tbody>\n",
       "    <tr>\n",
       "      <th>0</th>\n",
       "      <td>1.81.122.235</td>\n",
       "      <td>Mozilla/5.0 (iPhone; CPU iPhone OS 14_6 like M...</td>\n",
       "      <td>0</td>\n",
       "      <td>7</td>\n",
       "      <td>0.0</td>\n",
       "      <td>0.0</td>\n",
       "      <td>0.0</td>\n",
       "      <td>0.0</td>\n",
       "      <td>85.714286</td>\n",
       "      <td>108702.714286</td>\n",
       "      <td>760919</td>\n",
       "      <td>41.714286</td>\n",
       "      <td>292.0</td>\n",
       "      <td>6.9</td>\n",
       "      <td>1.15</td>\n",
       "      <td>0</td>\n",
       "      <td>0</td>\n",
       "    </tr>\n",
       "  </tbody>\n",
       "</table>\n",
       "</div>"
      ],
      "text/plain": [
       "             ip                                         user_agent  session  \\\n",
       "0  1.81.122.235  Mozilla/5.0 (iPhone; CPU iPhone OS 14_6 like M...        0   \n",
       "\n",
       "   num_requests  img_to_req(%)  4xx(%)  Head(%)  std_path_length  \\\n",
       "0             7            0.0     0.0      0.0              0.0   \n",
       "\n",
       "   consq_rep_path(%)  ave_response_len  sum_response_len  ave_response_time  \\\n",
       "0          85.714286     108702.714286            760919          41.714286   \n",
       "\n",
       "   sum_response_time  session_duration  ave_time_per_page  robot_txt  is_bot  \n",
       "0              292.0               6.9               1.15          0       0  "
      ]
     },
     "execution_count": 3,
     "metadata": {},
     "output_type": "execute_result"
    }
   ],
   "source": [
    "df.head(1)"
   ]
  },
  {
   "cell_type": "code",
   "execution_count": 4,
   "id": "388f3425",
   "metadata": {},
   "outputs": [],
   "source": [
    "# simple modification!!\n",
    "df.loc[(df[\"robot_txt\"] == 1) & (df[\"is_bot\"] == 0), \"is_bot\"] = 1\n",
    "df.loc[df[\"user_agent\"] == \"sentry/21.4.1 (https://sentry.io)\",\"is_bot\"] = 1"
   ]
  },
  {
   "cell_type": "code",
   "execution_count": 5,
   "id": "0ef90916",
   "metadata": {},
   "outputs": [],
   "source": [
    "SEED = 42\n",
    "\n",
    "def seed_everything(seed):\n",
    "    random.seed(seed)\n",
    "    os.environ['PYTHONHASHSEED'] = str(seed)\n",
    "    np.random.seed(seed)\n",
    "    torch.manual_seed(seed)\n",
    "    torch.cuda.manual_seed(seed)\n",
    "    torch.backends.cudnn.deterministic = True\n",
    "    torch.backends.cudnn.benchmark = True\n",
    "\n",
    "seed_everything(SEED)"
   ]
  },
  {
   "cell_type": "code",
   "execution_count": 6,
   "id": "fa09591c",
   "metadata": {
    "scrolled": false
   },
   "outputs": [
    {
     "name": "stdout",
     "output_type": "stream",
     "text": [
      "normal.shape=(28374, 17)\n",
      "anomaly.shape=(2309, 17)\n"
     ]
    }
   ],
   "source": [
    "# splitting data to normal and anomaly dataset\n",
    "normal = df[df[\"is_bot\"] == 0]\n",
    "normal_index = normal.index\n",
    "normal = normal.sample(frac=1).reset_index(drop=True)\n",
    "print(f\"{normal.shape=}\")\n",
    "\n",
    "anomaly = df[df[\"is_bot\"] == 1]\n",
    "bot_index = anomaly.index\n",
    "anomaly = anomaly.sample(frac=1).reset_index(drop=True)\n",
    "print(f\"{anomaly.shape=}\")"
   ]
  },
  {
   "cell_type": "code",
   "execution_count": 7,
   "id": "412b7054",
   "metadata": {},
   "outputs": [],
   "source": [
    "def prepare_datasets(normal, anomaly):\n",
    "    \n",
    "    \"\"\"return the train, val and test set\"\"\"\n",
    "    \n",
    "    cols_to_model = df.drop([\"ip\", \"user_agent\",\"session\"], axis=1).columns # \"robot_txt\", \"is_bot\"\n",
    "    cols_to_scale = df.drop([\"ip\", \"user_agent\",\"session\", \"robot_txt\", \"is_bot\"], axis=1).columns\n",
    "\n",
    "    \n",
    "    n1 = int(0.7*len(normal)) # 80% of normal data goes for training and 20% goes for test set\n",
    "    xtr = normal.loc[:n1, cols_to_model]\n",
    "    \n",
    "    xtest = anomaly[cols_to_model].append(normal.loc[n1:, cols_to_model], ignore_index = True) # creating test set\n",
    "    \n",
    "#     xtest = xtest.sample(frac=1).reset_index(drop=True) # shuffling the test set\n",
    "    \n",
    "    \n",
    "    xtrain, xvalid = train_test_split(xtr, test_size=0.2, random_state=123456) \n",
    "    \n",
    "    scaler = StandardScaler()\n",
    "    xtrain = scaler.fit_transform(xtrain)\n",
    "    xvalid = scaler.transform(xvalid)\n",
    "    xtest = scaler.transform(xtest)\n",
    "    \n",
    "    xtrain = torch.tensor(xtrain).float()\n",
    "    xvalid = torch.tensor(xvalid).float()\n",
    "    xtest = torch.tensor(xtest).float()\n",
    "    \n",
    "    print(f\"{xtrain.size()=}\")\n",
    "    print(f\"{xvalid.size()=}\")\n",
    "    print(f\"{xtest.size()=}\")\n",
    "    \n",
    "    return xtrain, xvalid, xtest   "
   ]
  },
  {
   "cell_type": "code",
   "execution_count": 8,
   "id": "c3f76712",
   "metadata": {},
   "outputs": [
    {
     "name": "stdout",
     "output_type": "stream",
     "text": [
      "xtrain.size()=torch.Size([15889, 14])\n",
      "xvalid.size()=torch.Size([3973, 14])\n",
      "xtest.size()=torch.Size([10822, 14])\n"
     ]
    }
   ],
   "source": [
    "xtrain, xvalid, xtest = prepare_datasets(normal, anomaly)"
   ]
  },
  {
   "cell_type": "code",
   "execution_count": 9,
   "id": "10123dd3",
   "metadata": {},
   "outputs": [],
   "source": [
    "# creating dataloaders \n",
    "tr = DataLoader(xtrain, batch_size=32, shuffle=True)\n",
    "val = DataLoader(xvalid, batch_size=32, shuffle=True)\n",
    "# te = DataLoader(xtest, batch_size=32, shuffle=True)"
   ]
  },
  {
   "cell_type": "code",
   "execution_count": 10,
   "id": "a734edc9",
   "metadata": {},
   "outputs": [],
   "source": [
    "class SaveBestModel:\n",
    "    \"\"\"\n",
    "    Class to save the best model while training. If the current epoch's \n",
    "    validation loss is less than the previous least less, then save the\n",
    "    model state.\n",
    "    \"\"\"\n",
    "    def __init__(self, best_valid_loss=float('inf')):\n",
    "        \n",
    "        self.best_valid_loss = best_valid_loss\n",
    "        \n",
    "    def __call__( self, current_valid_loss, epoch, model, optimizer, criterion):\n",
    "        \n",
    "        if current_valid_loss < self.best_valid_loss:\n",
    "            self.best_valid_loss = current_valid_loss\n",
    "#             print(f\"\\nBest validation loss: {self.best_valid_loss}\")\n",
    "#             print(f\"\\nSaving best model for epoch: {epoch}\\n\")\n",
    "            torch.save({\n",
    "                'epoch': epoch,\n",
    "                'model_state_dict': model.state_dict(),\n",
    "                'optimizer_state_dict': optimizer.state_dict(),\n",
    "                'loss': criterion,\n",
    "                }, 'best_model.pth')\n",
    "\n",
    "def save_model(epochs, model, optimizer, criterion):\n",
    "    \"\"\"\n",
    "    Function to save the trained model to disk.\n",
    "    \"\"\"\n",
    "    print(f\"Saving final model...\")\n",
    "    torch.save({\n",
    "                'epoch': epochs,\n",
    "                'model_state_dict': model.state_dict(),\n",
    "                'optimizer_state_dict': optimizer.state_dict(),\n",
    "                'loss': criterion,\n",
    "                }, 'final_model.pth')"
   ]
  },
  {
   "cell_type": "code",
   "execution_count": 11,
   "id": "ce359cc5",
   "metadata": {},
   "outputs": [],
   "source": [
    "# autoencoder model\n",
    "class Encoder(nn.Module):\n",
    "    def __init__(self, input_dim, intermediate_size, bottleneck_size, initialize=True):\n",
    "        super(Encoder, self).__init__()\n",
    "        \n",
    "        self.layer1 = nn.Linear(input_dim, intermediate_size)\n",
    "        self.layer2 = nn.Linear(intermediate_size, intermediate_size//2)\n",
    "        self.layer3 = nn.Linear(intermediate_size//2, bottleneck_size)\n",
    "        \n",
    "        if initialize:\n",
    "            for m in self.modules():\n",
    "                if isinstance(m, nn.Linear):\n",
    "                    nn.init.kaiming_normal_(m.weight, nonlinearity=\"relu\")\n",
    "        \n",
    "    def __call__(self, x):\n",
    "        # hidden layer 1\n",
    "        x = self.layer1(x)\n",
    "        hl1 = F.relu(x)\n",
    "        # hidden layer 2\n",
    "        x = self.layer2(hl1)\n",
    "        hl2 = F.relu(x)\n",
    "        # bottleneck\n",
    "        x = self.layer3(hl2)\n",
    "        bottleneck = F.relu(x)\n",
    "\n",
    "        return x\n",
    "        \n",
    "class Decoder(nn.Module):\n",
    "    def __init__(self, input_dim, intermediate_size, bottleneck_size, initialize=True):\n",
    "        super(Decoder, self).__init__()\n",
    "        \n",
    "        self.layer4 = nn.Linear(bottleneck_size, intermediate_size//2)\n",
    "        self.layer5 = nn.Linear(intermediate_size//2, intermediate_size)\n",
    "        self.layer6 = nn.Linear(intermediate_size, input_dim)\n",
    "        \n",
    "        if initialize:\n",
    "            for m in self.modules():\n",
    "                if isinstance(m, nn.Linear):\n",
    "                    nn.init.kaiming_normal_(m.weight, nonlinearity=\"relu\")\n",
    "                    nn.init.constant_(m.bias, 0.1)\n",
    "                    \n",
    "    def __call__(self, x):\n",
    "        # hidden layer 4\n",
    "        x = self.layer4(x)\n",
    "        hl4 = F.relu(x)\n",
    "        # hidden layer 5\n",
    "        x = self.layer5(hl4)\n",
    "        hl5 = F.relu(x)\n",
    "        # output\n",
    "        out = self.layer6(hl5)\n",
    "\n",
    "        return out\n",
    "        \n",
    "class AutoEncoder(nn.Module):\n",
    "    def __init__(self):\n",
    "        super(AutoEncoder, self).__init__()\n",
    "        self.encoder = Encoder(input_dim, intermediate_size, bottleneck_size, initialize=True)\n",
    "        self.decoder = Decoder(input_dim, intermediate_size, bottleneck_size, initialize=True)\n",
    "    \n",
    "    def __call__(self, x):\n",
    "        encoded = self.encoder(x)\n",
    "        output = self.decoder(encoded)\n",
    "        return output"
   ]
  },
  {
   "cell_type": "code",
   "execution_count": 12,
   "id": "278c7c44",
   "metadata": {
    "scrolled": true
   },
   "outputs": [
    {
     "name": "stdout",
     "output_type": "stream",
     "text": [
      "Number of parameters -- > 446\n"
     ]
    }
   ],
   "source": [
    "input_dim = xtrain.shape[1]\n",
    "intermediate_size = 10\n",
    "bottleneck_size = 2\n",
    "learning_rate = 0.0025 #0.002\n",
    "max_epochs = 200\n",
    "\n",
    "model = AutoEncoder()\n",
    "print(\"Number of parameters -- >\", sum(p.numel() for p in model.parameters()))\n",
    "\n",
    "criterion = nn.MSELoss()\n",
    "optimizer = torch.optim.Adam(model.parameters(), lr=learning_rate)\n",
    "save_best_model = SaveBestModel()"
   ]
  },
  {
   "cell_type": "code",
   "execution_count": 13,
   "id": "8ba3db50",
   "metadata": {},
   "outputs": [],
   "source": [
    "# lre = torch.linspace(-3, 0, 1000) # between 0.001 and 1(how did we choose this??)\n",
    "# lrs = 10 ** lre"
   ]
  },
  {
   "cell_type": "code",
   "execution_count": 14,
   "id": "34cac896",
   "metadata": {},
   "outputs": [],
   "source": [
    "# first_batch = next(iter(tr))\n",
    "# first_batch.size()\n",
    "\n",
    "# overfittin a single batch\n",
    "# model.train()\n",
    "# for i in range(1000):\n",
    "#     optimizer.zero_grad()\n",
    "#     y_pred = model(first_batch)\n",
    "#     loss = criterion(y_pred, first_batch)\n",
    "#     loss.backward()\n",
    "#     optimizer.step()    \n",
    "#     print(loss.item())   \n",
    "# 0.00995"
   ]
  },
  {
   "cell_type": "code",
   "execution_count": 15,
   "id": "76bf74c5",
   "metadata": {},
   "outputs": [],
   "source": [
    "def evaluate(model, dataloader, criterion):\n",
    "    \n",
    "    model.eval()\n",
    "    running_loss_val = 0.0\n",
    "    \n",
    "    with torch.no_grad():\n",
    "        \n",
    "        for x in dataloader:\n",
    "            output = model(x)\n",
    "            loss = criterion(output, x) \n",
    "            running_loss_val += loss.item()\n",
    "        \n",
    "    running_loss_val /= len(dataloader)\n",
    "        \n",
    "    return running_loss_val "
   ]
  },
  {
   "cell_type": "code",
   "execution_count": 16,
   "id": "efbf7595",
   "metadata": {},
   "outputs": [],
   "source": [
    "def train_eval(model, dataloader, optimizer, criterion, max_epochs = max_epochs):\n",
    "    \n",
    "    # collect the loss of each epoch\n",
    "    train_loss = []\n",
    "    eval_loss = []\n",
    "    \n",
    "    for epoch in range(1, max_epochs):\n",
    "        \n",
    "        model.train()\n",
    "        running_loss_tr = 0.0 # collect the loss of each minibatch\n",
    "        \n",
    "        for x in dataloader:\n",
    "            optimizer.zero_grad()\n",
    "            output = model(x)\n",
    "            loss = criterion(output, x)\n",
    "            loss.backward()\n",
    "            optimizer.step()\n",
    "            running_loss_tr += loss.item()\n",
    "        \n",
    "        running_loss_tr /= (len(dataloader))\n",
    "        train_loss.append(running_loss_tr)\n",
    "        running_loss_val = evaluate(model, dataloader, criterion)\n",
    "        eval_loss.append(running_loss_val)\n",
    "        \n",
    "        if epoch % 10 == 0:\n",
    "            print(f\"Epoch {epoch}/{max_epochs} | train_loss: {running_loss_tr:0.4f} | Valid_loss: {running_loss_val:0.4f}\")\n",
    "        \n",
    "        save_best_model(running_loss_val, epoch, model, optimizer, criterion)\n",
    "        \n",
    "    save_model(max_epochs, model, optimizer, criterion)    \n",
    "    return train_loss, eval_loss"
   ]
  },
  {
   "cell_type": "code",
   "execution_count": 17,
   "id": "02d632a3",
   "metadata": {
    "scrolled": false
   },
   "outputs": [
    {
     "name": "stdout",
     "output_type": "stream",
     "text": [
      "Epoch 10/200 | train_loss: 0.2965 | Valid_loss: 0.2869\n",
      "Epoch 20/200 | train_loss: 0.2292 | Valid_loss: 0.2279\n",
      "Epoch 30/200 | train_loss: 0.2179 | Valid_loss: 0.2304\n",
      "Epoch 40/200 | train_loss: 0.2089 | Valid_loss: 0.1926\n",
      "Epoch 50/200 | train_loss: 0.1904 | Valid_loss: 0.1903\n",
      "Epoch 60/200 | train_loss: 0.1893 | Valid_loss: 0.1818\n",
      "Epoch 70/200 | train_loss: 0.1875 | Valid_loss: 0.2136\n",
      "Epoch 80/200 | train_loss: 0.1824 | Valid_loss: 0.2018\n",
      "Epoch 90/200 | train_loss: 0.1833 | Valid_loss: 0.1746\n",
      "Epoch 100/200 | train_loss: 0.1784 | Valid_loss: 0.1768\n",
      "Epoch 110/200 | train_loss: 0.1802 | Valid_loss: 0.1797\n",
      "Epoch 120/200 | train_loss: 0.1800 | Valid_loss: 0.1761\n",
      "Epoch 130/200 | train_loss: 0.1862 | Valid_loss: 0.1739\n",
      "Epoch 140/200 | train_loss: 0.1784 | Valid_loss: 0.1880\n",
      "Epoch 150/200 | train_loss: 0.1779 | Valid_loss: 0.1756\n",
      "Epoch 160/200 | train_loss: 0.1782 | Valid_loss: 0.1704\n",
      "Epoch 170/200 | train_loss: 0.1770 | Valid_loss: 0.1749\n",
      "Epoch 180/200 | train_loss: 0.1748 | Valid_loss: 0.1758\n",
      "Epoch 190/200 | train_loss: 0.1799 | Valid_loss: 0.2238\n",
      "Saving final model...\n"
     ]
    }
   ],
   "source": [
    "train_loss, eval_loss = train_eval(model, tr, optimizer, criterion)"
   ]
  },
  {
   "cell_type": "code",
   "execution_count": 18,
   "id": "965533f2",
   "metadata": {
    "scrolled": false
   },
   "outputs": [
    {
     "data": {
      "image/png": "[encoded data removed]",
      "text/plain": [
       "<Figure size 576x432 with 1 Axes>"
      ]
     },
     "metadata": {},
     "output_type": "display_data"
    }
   ],
   "source": [
    "plt.figure(figsize=(8,6))\n",
    "plt.plot(range(len(train_loss)), train_loss, color = \"b\", label = \"Training_loss\")\n",
    "plt.plot(range(len(eval_loss)), eval_loss, color = \"r\", label = \"Validation_loss\")\n",
    "plt.legend()\n",
    "plt.show()"
   ]
  },
  {
   "cell_type": "code",
   "execution_count": 19,
   "id": "3b845053",
   "metadata": {
    "scrolled": false
   },
   "outputs": [
    {
     "name": "stdout",
     "output_type": "stream",
     "text": [
      "Best model was saved at 175 epochs\n",
      "\n",
      "Last model was saved at 200 epochs\n",
      "\n"
     ]
    }
   ],
   "source": [
    "best_model_cp = torch.load('best_model.pth')\n",
    "best_model_epoch = best_model_cp['epoch']\n",
    "print(f\"Best model was saved at {best_model_epoch} epochs\\n\")\n",
    "# load the last model checkpoint\n",
    "last_model_cp = torch.load('final_model.pth')\n",
    "last_model_epoch = last_model_cp['epoch']\n",
    "print(f\"Last model was saved at {last_model_epoch} epochs\\n\")"
   ]
  },
  {
   "cell_type": "code",
   "execution_count": 20,
   "id": "70874d7f",
   "metadata": {},
   "outputs": [
    {
     "name": "stdout",
     "output_type": "stream",
     "text": [
      "tensor(-0.2642) --> tensor(-0.3066)\n",
      "tensor(0.5435) --> tensor(0.5235)\n",
      "tensor(-0.1171) --> tensor(-0.1212)\n",
      "tensor(-0.0103) --> tensor(-0.0036)\n",
      "tensor(-0.6913) --> tensor(-0.6858)\n",
      "tensor(-0.2941) --> tensor(-0.2841)\n",
      "tensor(0.2545) --> tensor(0.0097)\n",
      "tensor(-0.0785) --> tensor(-0.1186)\n",
      "tensor(-0.1635) --> tensor(-0.1540)\n",
      "tensor(-0.0928) --> tensor(-0.1087)\n",
      "tensor(-0.2617) --> tensor(-0.2532)\n",
      "tensor(-0.3062) --> tensor(-0.2979)\n",
      "tensor(0.) --> tensor(0.0005)\n",
      "tensor(0.) --> tensor(-0.0002)\n"
     ]
    }
   ],
   "source": [
    "checkpoint = torch.load('best_model.pth')\n",
    "model.load_state_dict(checkpoint['model_state_dict'])\n",
    "model.eval() \n",
    "with torch.no_grad():\n",
    "    predicted = model(xtrain[10])\n",
    "\n",
    "    for original, constructed in zip(xtrain[10], predicted):\n",
    "        print(original, \"-->\", constructed)"
   ]
  },
  {
   "cell_type": "code",
   "execution_count": 21,
   "id": "69d78aa1",
   "metadata": {},
   "outputs": [],
   "source": [
    "# checkpoint = torch.load('best_model.pth')\n",
    "# model.load_state_dict(checkpoint['model_state_dict'])\n",
    "predicted = []\n",
    "model.eval()\n",
    "with torch.no_grad():\n",
    "    predicted.append(model(xtest))"
   ]
  },
  {
   "cell_type": "code",
   "execution_count": 22,
   "id": "2b7dc8c2",
   "metadata": {},
   "outputs": [],
   "source": [
    "reconstructed = predicted[0]\n",
    "\n",
    "mse =  torch.mean(torch.pow(reconstructed - xtest, 2), axis=1)"
   ]
  },
  {
   "cell_type": "code",
   "execution_count": 23,
   "id": "d7dd8bbd",
   "metadata": {},
   "outputs": [],
   "source": [
    "anomaly_test = mse[:2310]\n",
    "normal_test = mse[2310:]"
   ]
  },
  {
   "cell_type": "code",
   "execution_count": 24,
   "id": "6c846383",
   "metadata": {},
   "outputs": [
    {
     "data": {
      "text/html": [
       "<div>\n",
       "<style scoped>\n",
       "    .dataframe tbody tr th:only-of-type {\n",
       "        vertical-align: middle;\n",
       "    }\n",
       "\n",
       "    .dataframe tbody tr th {\n",
       "        vertical-align: top;\n",
       "    }\n",
       "\n",
       "    .dataframe thead th {\n",
       "        text-align: right;\n",
       "    }\n",
       "</style>\n",
       "<table border=\"1\" class=\"dataframe\">\n",
       "  <thead>\n",
       "    <tr style=\"text-align: right;\">\n",
       "      <th></th>\n",
       "      <th>count</th>\n",
       "      <th>mean</th>\n",
       "      <th>std</th>\n",
       "      <th>min</th>\n",
       "      <th>25%</th>\n",
       "      <th>50%</th>\n",
       "      <th>75%</th>\n",
       "      <th>90%</th>\n",
       "      <th>95%</th>\n",
       "      <th>98%</th>\n",
       "      <th>99%</th>\n",
       "      <th>max</th>\n",
       "    </tr>\n",
       "  </thead>\n",
       "  <tbody>\n",
       "    <tr>\n",
       "      <th>0</th>\n",
       "      <td>2310.0</td>\n",
       "      <td>1106.595581</td>\n",
       "      <td>52889.980469</td>\n",
       "      <td>0.076914</td>\n",
       "      <td>0.31381</td>\n",
       "      <td>0.646214</td>\n",
       "      <td>1.350201</td>\n",
       "      <td>3.640063</td>\n",
       "      <td>7.674213</td>\n",
       "      <td>36.500209</td>\n",
       "      <td>85.752309</td>\n",
       "      <td>2542051.25</td>\n",
       "    </tr>\n",
       "  </tbody>\n",
       "</table>\n",
       "</div>"
      ],
      "text/plain": [
       "    count         mean           std       min      25%       50%       75%  \\\n",
       "0  2310.0  1106.595581  52889.980469  0.076914  0.31381  0.646214  1.350201   \n",
       "\n",
       "        90%       95%        98%        99%         max  \n",
       "0  3.640063  7.674213  36.500209  85.752309  2542051.25  "
      ]
     },
     "execution_count": 24,
     "metadata": {},
     "output_type": "execute_result"
    }
   ],
   "source": [
    "df_describe = pd.DataFrame(anomaly_test)\n",
    "df_describe.describe(percentiles=[0.25, 0.5, 0.75, 0.9, 0.95, 0.98,0.99]).T"
   ]
  },
  {
   "cell_type": "code",
   "execution_count": 25,
   "id": "5eabee67",
   "metadata": {},
   "outputs": [
    {
     "data": {
      "text/html": [
       "<div>\n",
       "<style scoped>\n",
       "    .dataframe tbody tr th:only-of-type {\n",
       "        vertical-align: middle;\n",
       "    }\n",
       "\n",
       "    .dataframe tbody tr th {\n",
       "        vertical-align: top;\n",
       "    }\n",
       "\n",
       "    .dataframe thead th {\n",
       "        text-align: right;\n",
       "    }\n",
       "</style>\n",
       "<table border=\"1\" class=\"dataframe\">\n",
       "  <thead>\n",
       "    <tr style=\"text-align: right;\">\n",
       "      <th></th>\n",
       "      <th>count</th>\n",
       "      <th>mean</th>\n",
       "      <th>std</th>\n",
       "      <th>min</th>\n",
       "      <th>25%</th>\n",
       "      <th>50%</th>\n",
       "      <th>75%</th>\n",
       "      <th>90%</th>\n",
       "      <th>95%</th>\n",
       "      <th>99%</th>\n",
       "      <th>99.9%</th>\n",
       "      <th>max</th>\n",
       "    </tr>\n",
       "  </thead>\n",
       "  <tbody>\n",
       "    <tr>\n",
       "      <th>0</th>\n",
       "      <td>8512.0</td>\n",
       "      <td>0.258378</td>\n",
       "      <td>12.342793</td>\n",
       "      <td>0.000601</td>\n",
       "      <td>0.009715</td>\n",
       "      <td>0.01888</td>\n",
       "      <td>0.059026</td>\n",
       "      <td>0.152083</td>\n",
       "      <td>0.265849</td>\n",
       "      <td>1.181484</td>\n",
       "      <td>17.459669</td>\n",
       "      <td>1130.165894</td>\n",
       "    </tr>\n",
       "  </tbody>\n",
       "</table>\n",
       "</div>"
      ],
      "text/plain": [
       "    count      mean        std       min       25%      50%       75%  \\\n",
       "0  8512.0  0.258378  12.342793  0.000601  0.009715  0.01888  0.059026   \n",
       "\n",
       "        90%       95%       99%      99.9%          max  \n",
       "0  0.152083  0.265849  1.181484  17.459669  1130.165894  "
      ]
     },
     "execution_count": 25,
     "metadata": {},
     "output_type": "execute_result"
    }
   ],
   "source": [
    "df_describe = pd.DataFrame(normal_test)\n",
    "df_describe.describe(percentiles=[0.25, 0.5, 0.75, 0.9, 0.95, 0.990,.999]).T"
   ]
  },
  {
   "cell_type": "code",
   "execution_count": 26,
   "id": "5b35518c",
   "metadata": {},
   "outputs": [
    {
     "data": {
      "image/png": "[encoded data removed]",
      "text/plain": [
       "<Figure size 1080x432 with 1 Axes>"
      ]
     },
     "metadata": {},
     "output_type": "display_data"
    }
   ],
   "source": [
    "plt.figure(figsize=(15,6))\n",
    "plt.hist(normal_test.numpy(), bins=50, range=(0, 20), color=\"b\", label=\"normal_test\")\n",
    "plt.hist(anomaly_test.numpy(), bins=50, range=(0, 20), color=\"r\", label=\"anomaly_test\", alpha = 0.2)\n",
    "plt.legend()\n",
    "plt.yscale(\"log\");\n"
   ]
  },
  {
   "cell_type": "code",
   "execution_count": 27,
   "id": "93b80622",
   "metadata": {},
   "outputs": [
    {
     "data": {
      "image/png": "[encoded data removed]",
      "text/plain": [
       "<Figure size 1080x432 with 1 Axes>"
      ]
     },
     "metadata": {},
     "output_type": "display_data"
    }
   ],
   "source": [
    "plt.figure(figsize=(15,6))\n",
    "plt.hist(normal_test.numpy(), bins=50, range=(20, 2000), color=\"b\", label=\"normal_test\")\n",
    "plt.hist(anomaly_test.numpy(), bins=50, range=(20, 2000), color=\"r\", label=\"anomaly_test\", alpha = 0.2)\n",
    "plt.legend()\n",
    "plt.yscale(\"log\");"
   ]
  },
  {
   "cell_type": "code",
   "execution_count": 28,
   "id": "db411547",
   "metadata": {},
   "outputs": [],
   "source": [
    "def compute_bottleneck(x, model):\n",
    "    x = model.encoder(x)\n",
    "    return x"
   ]
  },
  {
   "cell_type": "code",
   "execution_count": 29,
   "id": "43406758",
   "metadata": {},
   "outputs": [],
   "source": [
    "representation = compute_bottleneck(xtest, model)"
   ]
  },
  {
   "cell_type": "code",
   "execution_count": 30,
   "id": "650b8f7d",
   "metadata": {},
   "outputs": [
    {
     "data": {
      "image/png": "[encoded data removed]",
      "text/plain": [
       "<Figure size 576x432 with 1 Axes>"
      ]
     },
     "metadata": {},
     "output_type": "display_data"
    }
   ],
   "source": [
    "plt.figure(figsize=(8,6))\n",
    "plt.title(\"Bot\")\n",
    "plt.scatter(representation[0:2310,0].detach().numpy(), representation[0:2310,1].detach().numpy(), color = \"b\");\n",
    "plt.scatter(representation[2310:,0].detach().numpy(), representation[2310:,1].detach().numpy(), color = \"r\", alpha = 0.3);"
   ]
  }
 ],
 "metadata": {
  "kernelspec": {
   "display_name": "Python 3 (ipykernel)",
   "language": "python",
   "name": "python3"
  },
  "language_info": {
   "codemirror_mode": {
    "name": "ipython",
    "version": 3
   },
   "file_extension": ".py",
   "mimetype": "text/x-python",
   "name": "python",
   "nbconvert_exporter": "python",
   "pygments_lexer": "ipython3",
   "version": "3.9.7"
  }
 },
 "nbformat": 4,
 "nbformat_minor": 5
}
